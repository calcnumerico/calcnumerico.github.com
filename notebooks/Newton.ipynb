{
 "cells": [
  {
   "cell_type": "code",
   "execution_count": 4,
   "metadata": {
    "collapsed": false
   },
   "outputs": [
    {
     "data": {
      "text/plain": [
       "[<matplotlib.lines.Line2D at 0x112c67d10>]"
      ]
     },
     "execution_count": 4,
     "metadata": {},
     "output_type": "execute_result"
    },
    {
     "data": {
      "image/png": "[encoded data removed]",
      "text/plain": [
       "<matplotlib.figure.Figure at 0x112c67a90>"
      ]
     },
     "metadata": {},
     "output_type": "display_data"
    }
   ],
   "source": [
    "# %load newton.py\n",
    "import matplotlib.pyplot as plt\n",
    "import numpy as np\n",
    "#import time\n",
    "%matplotlib inline\n",
    "\n",
    "def f(x):\n",
    "    return x*x-20\n",
    "    \n",
    "def df(x):\n",
    "    return 2*x\n",
    "\n",
    "chute=100 \n",
    "epsilon=0.001\n",
    "\n",
    "\n",
    "\n",
    "x=chute\n",
    "\n",
    "fig = plt.figure()\n",
    "ax1 = fig.add_subplot(111)\n",
    "i=0\n",
    "plt.ion()\n",
    "#while(np.abs(x_next-x)>epsilon):\n",
    "while(i<10):\n",
    "    x_next=x-f(x)/df(x)\n",
    "    ax1.scatter(x, 0,c='b')\n",
    "    ax1.scatter(x, f(x),c='b')\n",
    "    ax1.plot([x, x], [0, f(x)],c='b')\n",
    "    ax1.plot([x, x_next], [f(x), 0],c='b')\n",
    "    plt.draw()\n",
    "    #plt.show() \n",
    "    #print(\"%64.30f\" % x)\n",
    "    x=x_next\n",
    "    i+=1\n",
    "    plt.pause(0.5)\n",
    "\n",
    "t = np.arange(-chute, chute, 0.01)\n",
    "s = f(t)\n",
    "ax1.plot(t, s,c='r')\n",
    "    \n",
    "   \n",
    "    \n"
   ]
  }
 ],
 "metadata": {
  "kernelspec": {
   "display_name": "Python 2",
   "language": "python",
   "name": "python2"
  },
  "language_info": {
   "codemirror_mode": {
    "name": "ipython",
    "version": 2
   },
   "file_extension": ".py",
   "mimetype": "text/x-python",
   "name": "python",
   "nbconvert_exporter": "python",
   "pygments_lexer": "ipython2",
   "version": "2.7.13"
  }
 },
 "nbformat": 4,
 "nbformat_minor": 2
}
