{
 "cells": [
  {
   "cell_type": "code",
   "execution_count": null,
   "metadata": {
    "collapsed": true
   },
   "outputs": [],
   "source": [
    "# %load ../python_scripts/calor_2d.py\n",
    "import matplotlib.pyplot as plt\n",
    "import numpy as np\n",
    "import matplotlib.cm as cm\n",
    "%matplotlib inline\n",
    "\n"
   ]
  },
  {
   "cell_type": "code",
   "execution_count": null,
   "metadata": {
    "collapsed": true
   },
   "outputs": [],
   "source": [
    "#h=0.5\n",
    "n=40\n",
    "h=1/n\n",
    "Laplacian = np.diag(-4*np.ones((n**2)))\n",
    "#b= [np.ones(n**2/2)np.zeros(n**2/2)]\n",
    "#b=10000*np.random.rand(n**2)\n",
    "b=np.concatenate((500*np.ones(n), np.zeros(n**2-2*n), 100*np.ones(n)), axis=0)\n",
    "#b=np.arange(0,n**2)\n",
    "for i in range(0,n**2-1):\n",
    "    if(i%n!=n-1):\n",
    "        Laplacian[i,i+1] = 1\n",
    "        Laplacian[i+1,i] = 1\n",
    "for i in range(0,n**2-n):\n",
    "    Laplacian[i,i+n] = 1\n",
    "    Laplacian[i+n,i] = 1\n",
    "Laplacian=(1/h**2)*Laplacian\n",
    "\n",
    "x = np.linalg.solve(Laplacian, b)\n",
    "print(x)\n",
    "\n",
    "\n",
    "malha=np.ones([n**2,2])\n",
    "for i in range (n):\n",
    "    for j in range(n):\n",
    "        malha[i*n+j][0]= i/n\n",
    "        malha[i*n+j][1]= j/n\n",
    "\n",
    "#print(malha.shape)\n",
    "#print(Laplacian.shape)\n",
    "\n",
    "f= plt.figure()\n",
    "teste=plt.tricontourf(malha[:,1], malha[:,0],x[:],100,cmap=cm.gist_heat) # choose 200 contour levels, just to show how good its interpolation is\n",
    "#f.colorbar(teste, shrink=0.5, aspect=5)\n",
    "plt.show()"
   ]
  }
 ],
 "metadata": {
  "anaconda-cloud": {},
  "kernelspec": {
   "display_name": "Python [conda root]",
   "language": "python",
   "name": "conda-root-py"
  },
  "language_info": {
   "codemirror_mode": {
    "name": "ipython",
    "version": 3
   },
   "file_extension": ".py",
   "mimetype": "text/x-python",
   "name": "python",
   "nbconvert_exporter": "python",
   "pygments_lexer": "ipython3",
   "version": "3.5.2"
  }
 },
 "nbformat": 4,
 "nbformat_minor": 1
}
